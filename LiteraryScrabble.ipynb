{
 "cells": [
  {
   "cell_type": "markdown",
   "metadata": {},
   "source": [
    "# CSC8001: Assignment 1 (Part B)"
   ]
  },
  {
   "cell_type": "markdown",
   "metadata": {},
   "source": [
    "##  Literary Scrabble [65 marks]\n",
    "\n",
    "In Part B of Assignment 1, we are programming (in **Python 3**) and playing a round of Literary Scrabble: a game of Scrabble where you can only play words that appear in selected literary classics.  \n",
    "\n",
    "**You Tasks**:\n",
    "\n",
    "Answer **Q1-Q7** by complementing each of the **Word Analysis** and **Book Analysis** functions below:\n",
    "- The **Word Analysis** functions will provide the primary text analysis to help you answer the questions defined in this notebook. \n",
    "- The code you write for each **Book Analysis** 's function will **need** to call the appropriate **Word Analysis** function(s) and then complete any additional processing necessary to answer the specific question.  \n",
    "\n",
    "You can test your code via the inputs and expected outputs in **\"Example\"** in each question.\n",
    "\n",
    "Text files for creating word lists are available in the `books` folder."
   ]
  },
  {
   "cell_type": "code",
   "execution_count": 1,
   "metadata": {},
   "outputs": [],
   "source": [
    "from __future__ import print_function\n",
    "\n",
    "import string"
   ]
  },
  {
   "cell_type": "markdown",
   "metadata": {},
   "source": [
    "### I. Word Analysis"
   ]
  },
  {
   "cell_type": "markdown",
   "metadata": {},
   "source": [
    "#### Q1. Create  Word List  [12 Marks]\n",
    "\n",
    "Complete the function below which should read a book's text file, and return a sorted list (descending) of words (i.e. - no duplicates) extracted from the book's `text_file` that also exist in the candidate list of approved scrabble words.  \n",
    "\n",
    "To create your book's word list: \n",
    "- remove all punctuation, whitespace characters and numbers;\n",
    "- split hyphenated words into separate words; \n",
    "- convert all characters to uppercase;  \n",
    "- replace hyphens and underscores with a single space: `' '`; \n",
    "- strip off all contractions and possessives from words: 's, 're, etc;\n",
    "- only keep words which also occur in the candidate list (i.e., candidates.txt)\n",
    "\n",
    "HINT: The Python Standard Library provides various string constants, such as `whitespace` and `punctuation`.  You may want to review the Python Standard Library's sections on string methods and constants.\n",
    "- [String constants](https://docs.python.org/3/library/string.html#string-constants)\n",
    "- [String methods](https://docs.python.org/3/library/stdtypes.html#text-sequence-type-str)\n",
    "\n",
    "**NOTE: Creating a book's word list may take some processing time**.  We recommend you to use the shorter book file `\"any_wool.txt\"`  while you are testing your code.\n",
    "\n",
    "**Example:**\n",
    "`create_wordlist(\"books/any_wool.txt\")` returns:\n",
    "\n",
    "['YOU',\n",
    " 'YES',\n",
    " 'WOOL',\n",
    " 'THREE',\n",
    " 'THE',\n",
    " 'THAT',\n",
    " 'SIR',\n",
    " 'SHEEP',\n",
    " 'ONE',\n",
    " 'MY',\n",
    " 'MASTER',\n",
    " 'LIVES',\n",
    " 'LITTLE',\n",
    " 'LANE',\n",
    " 'HAVE',\n",
    " 'FULL',\n",
    " 'FOR',\n",
    " 'DOWN',\n",
    " 'DAME',\n",
    " 'BOY',\n",
    " 'BLACK',\n",
    " 'BAGS',\n",
    " 'BAA',\n",
    " 'ANY',\n",
    " 'AND']"
   ]
  },
  {
   "cell_type": "code",
   "execution_count": 2,
   "metadata": {},
   "outputs": [
    {
     "data": {
      "text/plain": [
       "['YOU',\n",
       " 'YES',\n",
       " 'WOOL',\n",
       " 'THREE',\n",
       " 'THEY',\n",
       " 'THE',\n",
       " 'THAT',\n",
       " 'SIR',\n",
       " 'SHEEP',\n",
       " 'PUPPETS',\n",
       " 'ONE',\n",
       " 'MY',\n",
       " 'MASTER',\n",
       " 'LIVES',\n",
       " 'LITTLE',\n",
       " 'LANE',\n",
       " 'HAVE',\n",
       " 'FULL',\n",
       " 'FOR',\n",
       " 'DOWN',\n",
       " 'DAME',\n",
       " 'BOY',\n",
       " 'BLACK',\n",
       " 'BAGS',\n",
       " 'BAA',\n",
       " 'ANY',\n",
       " 'AND']"
      ]
     },
     "execution_count": 2,
     "metadata": {},
     "output_type": "execute_result"
    }
   ],
   "source": [
    "import string\n",
    "\n",
    "def create_wordlist(text_file):\n",
    "    \"\"\" This function returns a list of words of a chosen file\n",
    "    and compare them with the files candidates.txt\n",
    "    \"\"\"  \n",
    "    \n",
    "    punct = string.punctuation\n",
    "    numb = string.digits\n",
    "    con = \"'\"\n",
    "    newList = []\n",
    "    \n",
    "    #opening the text file\n",
    "    with open(text_file ,'r') as file:\n",
    "        #getting the data from the file\n",
    "        text = file.read()\n",
    "        #split hyphenated words into separate words\n",
    "        hyphen = text.replace(\"_\",\" \")\n",
    "        #Separating words from that data\n",
    "        words = hyphen.split()\n",
    "        \n",
    "        #strip off all contractions and possessives from words: 's, 're, etc;\n",
    "        stripped = [s.split(con,1)[0] for s in words]\n",
    "            \n",
    "        #remove all punctuation, characters and numbers\n",
    "        noPunct = str.maketrans(\"\", \"\", punct)  \n",
    "        rmPunct = [w.translate(noPunct) for w in stripped]\n",
    "        noInteg = str.maketrans(\"\", \"\", numb)\n",
    "        rmInteg = [n.translate(noInteg) for n in rmPunct]\n",
    "        \n",
    "        #convert all characters to uppercase\n",
    "        upwords = [w.upper() for w in rmInteg]  \n",
    "\n",
    "    with open(\"books/candidates.txt\" ,'r') as candidatesfile:\n",
    "        #getting the data from the file\n",
    "        secondtext = candidatesfile.read()\n",
    "        #Separating words from that data\n",
    "        candiwords = secondtext.split()\n",
    "        \n",
    "    #compere the words in the chosen file with candidates.txt\n",
    "    for anyWord in upwords:\n",
    "        if anyWord in candiwords:\n",
    "            #checking if the word exist in the new list \n",
    "            if anyWord not in newList:\n",
    "                #appending the word to the list\n",
    "                newList.append(anyWord)\n",
    "    #sorting the list in descending order\n",
    "    newList.sort(reverse=True)\n",
    "         \n",
    "    #the function will return the list with the words in common \n",
    "    #using 'return print(newList)' will give it the same style as the example provided \n",
    "    #return print(newList)\n",
    "    return newList\n",
    "\n",
    "\n",
    "\n",
    "\n",
    "#we test the function\n",
    "create_wordlist(\"books/any_wool.txt\")\n"
   ]
  },
  {
   "cell_type": "raw",
   "metadata": {},
   "source": [
    "#### Q2. Word Match [9 Marks]\n",
    "\n",
    "The `word_match` function below should return `True` or `False` depending on if the `word` can be created from the provided string of `letters`. The `word` does not have to use all of the letters.  NOTE: Each letter in `letters` can **only be used once**.\n",
    "\n",
    "**Example**: \n",
    "- `word_match('PUT','AEOPT')`, returns `False`\n",
    "- `word_match('TOE','AEOPT')`, returns `True`   "
   ]
  },
  {
   "cell_type": "code",
   "execution_count": 3,
   "metadata": {},
   "outputs": [
    {
     "data": {
      "text/plain": [
       "False"
      ]
     },
     "execution_count": 3,
     "metadata": {},
     "output_type": "execute_result"
    }
   ],
   "source": [
    "def word_match(word, letters):\n",
    "    \"\"\" \n",
    "    This function returns the status of a world depending whether or not can be \n",
    "    made by the letters provided in the second input.\n",
    "    \n",
    "\n",
    "    ***Note: this function will just print the status True or False \n",
    "       if the result needs to be exaclty as the example (same style) please subsitute \"return status\" \n",
    "       for \"return print(\"word_match,( \" + word + \" , \" + letters + \" ), returns \" + sta)\"\n",
    "    \"\"\"\n",
    "    #separating each character from the string to compare the output against each other\n",
    "    sepword = list(word)\n",
    "    sepletter = list(letters)\n",
    "    \n",
    "    #create an empty list and declare a boolean\n",
    "    match = []  \n",
    "    status = True \n",
    "    \n",
    "    #we convert any input into UpperCase so the comparison is not case sensitive \n",
    "    swUpper = [wr.upper() for wr in sepword] \n",
    "    slUpper = [lt.upper() for lt in sepletter] \n",
    "    \n",
    "    #loop through all the elements of the first input\n",
    "    for w in swUpper:\n",
    "        #checking if any of the elements of the first input matches with an element of the second\n",
    "        if w in slUpper:\n",
    "            #if it matches we remove that specific letter from the second input so this letter cannot\n",
    "            #be used more than one time. So each letter can only be used once.\n",
    "            slUpper.remove(w)\n",
    "            #then we append the used letter into an empty list so the word does not have to use all\n",
    "            #the letters\n",
    "            match.append(w)\n",
    "            #we compare the lenght of the new list with the first input, if it matches\n",
    "            #status goes True\n",
    "            if len(match) == len(swUpper):\n",
    "                status = True\n",
    "            #If the lenght of the letters is not the same, means that the word cannot be made  \n",
    "            #from the letter provided and status goes false\n",
    "            else:\n",
    "                status = False\n",
    "\n",
    "    #return status \n",
    "    return status\n",
    "\n",
    "\n",
    "word_match('PUT','AEOPT')"
   ]
  },
  {
   "cell_type": "markdown",
   "metadata": {},
   "source": [
    "#### Q3. Word Score [8 Marks]\n",
    "\n",
    "The `word_score` function below should return a word's scrabble score (integer). Use the following word score values to calculate the word's scrabble score(https://en.wikipedia.org/wiki/Scrabble_letter_distribution):\n",
    "\n",
    "\n",
    "Points | Letters\n",
    ":--: | :--\n",
    "1 | E,A,I,O,N,R,T,L,S,U                \n",
    "2 | D,G    \n",
    "3 | B,C,M,P         \n",
    "4 | F,H,V,W,Y           \n",
    "5 | K  \n",
    "8 | J,X    \n",
    "10| Q,Z    \n",
    "\n",
    "\n",
    "**Example**: `word_score(\"AFFIXES\")` returns `20`"
   ]
  },
  {
   "cell_type": "code",
   "execution_count": 4,
   "metadata": {},
   "outputs": [
    {
     "data": {
      "text/plain": [
       "20"
      ]
     },
     "execution_count": 4,
     "metadata": {},
     "output_type": "execute_result"
    }
   ],
   "source": [
    "def word_score(word):\n",
    "    \"\"\" \n",
    "    This function calculates the score of a string/word according to scrabble score provided\n",
    "    the function is not case sensitive and returns the value in integers\n",
    "    \"\"\"\n",
    "    #we declare the word's scrabble score into a dict\n",
    "    points = {\"E\":1,\"A\":1,\"I\":1,\"O\":1,\"N\":1,\"R\":1,\"T\":1,\"L\":1,\"S\":1,\"U\":1,\"D\":2,\"G\":2,\n",
    "               \"B\":3,\"C\":3,\"M\":3,\"P\":3,\"F\":4,\"H\":4,\"V\":4,\"W\":4,\"Y\":4,\"K\":5,\"J\":8,\"X\":8,\"Q\":10,\"Z\":10} \n",
    "    \n",
    "    #declare an empty list were the each letter score will be added in each iteration\n",
    "    score = []\n",
    "\n",
    "    #Using the function list() to separate the string into different letters\n",
    "    sword = list(word)\n",
    "    \n",
    "    #we convert any input into UpperCase hence is not case sensitive and wont have issues\n",
    "    swordUpper = [wrd.upper() for wrd in sword]\n",
    "    \n",
    "    #we iterate from the list of characters created\n",
    "    for l in swordUpper:\n",
    "        #if a character is found in our word score dictionary we assign the value of that letter\n",
    "        #to the variable\n",
    "        if l in points:\n",
    "            l = points[l]\n",
    "            #then we append that value to the list previously declared \n",
    "            sumScore = score.append(l)\n",
    "            #print(l)\n",
    "    #we use the sum() to sum all the values storaged into our list \n",
    "    SumScore = sum(score)\n",
    "    \n",
    "    #finally we return the integer \n",
    "    return SumScore\n",
    "\n",
    "word_score(\"affixes\")"
   ]
  },
  {
   "cell_type": "markdown",
   "metadata": {},
   "source": [
    "#### Q4. Find Words [9 Marks]\n",
    "\n",
    "You're playing Literary Scrabble where you can only play words extracted from famous books. You have pulled your letters and there are lots of possibilities but you obviously want to play a hand which will get you the highest score. \n",
    "\n",
    "Complete the `find_words` function below which should return a dictionary of valid words (selected from the provided `word_list`) that can be created from the letters provided. The keys for the returned dictionary are the words, the values are each word's scrabble score. \n",
    "\n",
    "- Use the `word_match` function above to find word/letters matches.  \n",
    "- Use the `word_score` function above to calculate each word's scrabble score.  \n",
    "\n",
    "**Example:**\n",
    "`find_words([\"TOE\",\"POT\",\"PUT\"],\"AEOPT\")` returns `{'TOE': 3, 'POT': 5}`\n"
   ]
  },
  {
   "cell_type": "code",
   "execution_count": 5,
   "metadata": {},
   "outputs": [
    {
     "data": {
      "text/plain": [
       "{'TOE': 3, 'POE': 5}"
      ]
     },
     "execution_count": 5,
     "metadata": {},
     "output_type": "execute_result"
    }
   ],
   "source": [
    "def find_words(word_list, letters):\n",
    "    \"\"\" This function checks whether or not the list of words/strings provided \n",
    "        can be made out of the string of letters in the second input and \n",
    "        returns the words/options with respective values.\n",
    "        \n",
    "        This function uses the functions word_match() and word_score() previuosly created.  \n",
    "    \"\"\"\n",
    "    #declare the initial variables  \n",
    "    wlist = word_list\n",
    "    lett = letters\n",
    "    #this is going to be our finall dictionary\n",
    "    validw = {}\n",
    "    \n",
    "    #we also convert any input into UpperCase hence is not case sensitive and wont have issues\n",
    "    wlistUpper = [wl.upper() for wl in wlist]\n",
    "   \n",
    "    #we run the list of words into a for loop \n",
    "    for w in wlistUpper:\n",
    "        #checking if it matches with the string of letters provided\n",
    "        matched = word_match(w, lett)\n",
    "        #calculating their score\n",
    "        scored = word_score(w)\n",
    "        #if the word matches we update the dictionary previously declared with the values \n",
    "        #obtained in the previous functions\n",
    "        if matched == True:\n",
    "            validw.update({w:scored})\n",
    "    \n",
    "    #return the dictionary with pair values\n",
    "    return validw\n",
    "\n",
    "find_words([\"TOE\",\"POE\",\"PUT\"], \"AEOPT\")\n"
   ]
  },
  {
   "cell_type": "markdown",
   "metadata": {
    "collapsed": true
   },
   "source": [
    "### II. Book Analysis\n",
    "\n",
    "Each **Book Analysis** function below will **need** to call the appropriate **Word Analysis** function(s) and then include any additional code required to answer the specific question.\n",
    "\n",
    "#### Q5.  Unique words [7 Marks]\n",
    "\n",
    "Return the number (integer) of unique words contained in `text_file`.\n",
    "\n",
    "**Example:**\n",
    "`unique_words(\"books/wonderland.txt\")`\n",
    "returns `589`"
   ]
  },
  {
   "cell_type": "code",
   "execution_count": 6,
   "metadata": {},
   "outputs": [
    {
     "data": {
      "text/plain": [
       "251"
      ]
     },
     "execution_count": 6,
     "metadata": {},
     "output_type": "execute_result"
    }
   ],
   "source": [
    "def unique_words(text_file):\n",
    "    \"\"\" This function will return the count of the unique words provided from\n",
    "    the create_wordlist() function.   \n",
    "    \"\"\" \n",
    "    #we save the output from the create_list function into a variable\n",
    "    uWord = create_wordlist(text_file)\n",
    "    #then we get the lenght with the len() method\n",
    "    count = len(uWord)\n",
    "    \n",
    "    #return the words in integer\n",
    "    return count\n",
    "\n",
    "unique_words(\"books/wolf.txt\")\n"
   ]
  },
  {
   "cell_type": "markdown",
   "metadata": {},
   "source": [
    "###### Q6.  Highest score [9 Marks]\n",
    "\n",
    "Your playing Literary Scrabble and its your turn.  What is the highest scoring word you can play with the letters you have based on the words from <em>wolf.txt</em> (available in the A1 \"books\" folder).\n",
    "\n",
    "**Example:**\n",
    "`highest_score(\"books/wolf.txt\",\"AOEIUY\")` returns `('YOU', 6)`"
   ]
  },
  {
   "cell_type": "code",
   "execution_count": 7,
   "metadata": {},
   "outputs": [
    {
     "data": {
      "text/plain": [
       "(8, 'HOUSE')"
      ]
     },
     "execution_count": 7,
     "metadata": {},
     "output_type": "execute_result"
    }
   ],
   "source": [
    "def highest_score(text_file, letters):\n",
    "    \"\"\" This function will scan the words of the given file and determine\n",
    "        the word with the highest score\n",
    "        \n",
    "        This functions uses the functions create_wordlist() and find_words()\n",
    "        prevously created\n",
    "    \"\"\" \n",
    "    \n",
    "    #we define the input as a variables\n",
    "    txt = text_file\n",
    "    ltts = letters\n",
    "    \n",
    "    #then we assign the output from the functions to a couple of variables\n",
    "    words = create_wordlist(txt)    \n",
    "    wordsList = find_words(words, ltts)\n",
    "    \n",
    "    #we reorder the output with the zip() method placing the value first \n",
    "    #in order to take it as starting point in the comparison value(integer) and get the max value\n",
    "    #by number otherwise is going to take key(string) and return max string as alphabet\n",
    "    zList = zip(wordsList.values(), wordsList.keys())\n",
    "    \n",
    "    #we get the max value with max() method\n",
    "    hList = max(zList)\n",
    "    \n",
    "    #we return the highest score\n",
    "    return hList\n",
    "\n",
    "highest_score(\"books/wolf.txt\",\"AOEIUYhjgsaHJGHJDG\")"
   ]
  },
  {
   "cell_type": "markdown",
   "metadata": {},
   "source": [
    "#### Q7.  Books with the most `Q` and `Z` words [11 Marks]\n",
    "\n",
    "You've just played all of your letters. According to the rules of Literary Scrabble, if you're out of letters you can choose to switch to a new literary novel but you have to do so before you choose your new letters.  \n",
    "\n",
    "You've noticed that no one has played a `Q` or a `Z` for a while, which may mean there are still some left.  This is good since these are high value letters, but not good if your next book doesn't have many words that contain those letters.  You write a function which counts how many words in a book contain certain letters. Your function accepts and returns a list of tuples, each tuple contains information for one book.  \n",
    "\n",
    "Your function's arguments should include: \n",
    " - a list of tuples: [(book_ID1, text_file1), (bookID2, text_file2), (book_ID3, text_file3)]\n",
    " - and a string of the letters to match.\n",
    "\n",
    "Your function should return a list of tuples which is sorted by the number of word_counts in descending order.\n",
    "\n",
    "**Example:**\n",
    "`book_word_count([('RABBIT','books/rabbit.txt'), ('EVE', 'books/war_eve.txt'), ('LAMB', 'books/lamb.txt', (WORLD','books/war_world.txt') ], 'QZ')`\n",
    "\n",
    "returns\n",
    "\n",
    "`[('WORLD', 111), ('EVE', 10), ('RABBIT', 5), ('LAMB', 0)]`\n",
    "\n",
    "\n",
    "(The books are available in the A1 \"books\" folder, and you can rename the book_IDs)"
   ]
  },
  {
   "cell_type": "code",
   "execution_count": 8,
   "metadata": {},
   "outputs": [
    {
     "data": {
      "text/plain": [
       "[('EVE', 10), ('RABBIT', 5), ('LAMB', 0)]"
      ]
     },
     "execution_count": 8,
     "metadata": {},
     "output_type": "execute_result"
    }
   ],
   "source": [
    "def book_word_count(book_list, letters):\n",
    "    \"\"\"This function retunrns a list of tupples with the number of words \n",
    "       that match with a given string of characters \n",
    "       \n",
    "       this function uses the function create_wordlist() previously created \n",
    "    \"\"\" \n",
    "    \n",
    "    #definig the variables and lists \n",
    "    blist = book_list\n",
    "    lttrs = list(letters)\n",
    "    wcount = []\n",
    "    \n",
    "\n",
    "    #this loop firstly assigns the two elements of every given tuple (name and book path)\n",
    "    #then create an empty list where the found words will be adding\n",
    "    for e in blist:\n",
    "        #this is the name we gave for every book\n",
    "        iD = e[0]\n",
    "        #we also convert the name that we gave into UpperCase so we avoid case's issues\n",
    "        iDupper = iD.upper()\n",
    "        #path for the txt file\n",
    "        bookId = e[1]\n",
    "        #empty list to add the words \n",
    "        counting = []\n",
    "        #we convert read and convert the txt into a list of words\n",
    "        listOfWords = create_wordlist(bookId)\n",
    "        #we loop through every word to check if the string given can be found in it\n",
    "        for w in listOfWords:\n",
    "            for lt in lttrs:\n",
    "                cheking = lt in w\n",
    "                #if the characters Q or Z are found in any word we append that word to the empty list\n",
    "                if cheking == True:\n",
    "                    counting.append(w)\n",
    "        #then we get the total number of words appended \n",
    "        val = len(counting)\n",
    "        #we create a new tupper with name and words found, and we append it to the main list \n",
    "        empty = (iDupper, val)\n",
    "        wcount.append(empty)\n",
    "        \n",
    "        \n",
    "\n",
    "                    \n",
    "       \n",
    "    \n",
    "    #sorting the result; changing the key value for the second value of each tupper\n",
    "    #we reverse the sorting to descending order\n",
    "    return sorted(wcount, key= lambda x: x[1], reverse=True)\n",
    "   \n",
    "    \n",
    "book_word_count([('RABBIT','books/rabbit.txt'), ('EVE', 'books/war_eve.txt'), ('LAMB', 'books/lamb.txt', '(WORLD','books/war_world.txt')], 'QZ')"
   ]
  },
  {
   "cell_type": "code",
   "execution_count": null,
   "metadata": {},
   "outputs": [],
   "source": []
  }
 ],
 "metadata": {
  "kernelspec": {
   "display_name": "Python 3",
   "language": "python",
   "name": "python3"
  },
  "language_info": {
   "codemirror_mode": {
    "name": "ipython",
    "version": 3
   },
   "file_extension": ".py",
   "mimetype": "text/x-python",
   "name": "python",
   "nbconvert_exporter": "python",
   "pygments_lexer": "ipython3",
   "version": "3.8.5"
  }
 },
 "nbformat": 4,
 "nbformat_minor": 2
}
